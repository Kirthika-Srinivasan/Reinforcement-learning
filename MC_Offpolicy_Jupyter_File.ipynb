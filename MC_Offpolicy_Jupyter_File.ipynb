{
 "cells": [
  {
   "cell_type": "markdown",
   "metadata": {
    "id": "_n0EamBV-6uu"
   },
   "source": [
    "## **Monte Carlo Methods - Off Policy**"
   ]
  },
  {
   "cell_type": "code",
   "execution_count": 26,
   "metadata": {
    "id": "mLnwAc1W-_-n"
   },
   "outputs": [],
   "source": [
    "import sys\n",
    "import gym\n",
    "import numpy as np\n",
    "from collections import defaultdict"
   ]
  },
  {
   "cell_type": "markdown",
   "metadata": {
    "id": "PpWhsHvy_K9N"
   },
   "source": [
    "Configuring the Blackjack environment"
   ]
  },
  {
   "cell_type": "code",
   "execution_count": 27,
   "metadata": {
    "id": "jKtSTadS_JKe"
   },
   "outputs": [],
   "source": [
    "env = gym.make('Blackjack-v0')"
   ]
  },
  {
   "cell_type": "code",
   "execution_count": 28,
   "metadata": {
    "colab": {
     "base_uri": "https://localhost:8080/"
    },
    "id": "V15VBxxY_RAS",
    "outputId": "14ec38d4-6415-4363-eb1e-f4eaad47dc58"
   },
   "outputs": [
    {
     "name": "stdout",
     "output_type": "stream",
     "text": [
      "{'action_space': Discrete(2), 'observation_space': Tuple(Discrete(32), Discrete(11), Discrete(2)), 'np_random': RandomState(MT19937) at 0x7F3084802380, 'natural': False, 'dealer': [5, 8], 'player': [5, 8], 'spec': EnvSpec(Blackjack-v0)}\n"
     ]
    }
   ],
   "source": [
    "print(vars(env))"
   ]
  },
  {
   "cell_type": "code",
   "execution_count": 29,
   "metadata": {
    "colab": {
     "base_uri": "https://localhost:8080/"
    },
    "id": "U5tGxdHx_1gg",
    "outputId": "10bc08ab-2366-4bb3-f7f3-1e1568ff89b0"
   },
   "outputs": [
    {
     "name": "stdout",
     "output_type": "stream",
     "text": [
      "Episode :  1\n",
      "Step = 1\t State = (20, 8, False)\t Action Taken = 0\n",
      "Game Ended...\n",
      "Agent Won!\n",
      "\n",
      "Episode :  2\n",
      "Step = 1\t State = (11, 6, False)\t Action Taken = 0\n",
      "Game Ended...\n",
      "Agent Lost!\n",
      "\n",
      "Episode :  3\n",
      "Step = 1\t State = (13, 2, False)\t Action Taken = 0\n",
      "Game Ended...\n",
      "Agent Lost!\n",
      "\n",
      "Episode :  4\n",
      "Step = 1\t State = (12, 9, False)\t Action Taken = 1\n",
      "Game Ended...\n",
      "Agent Lost!\n",
      "\n",
      "Episode :  5\n",
      "Step = 1\t State = (11, 2, False)\t Action Taken = 1\n",
      "Step = 2\t State = (19, 2, False)\t Action Taken = 1\n",
      "Game Ended...\n",
      "Agent Lost!\n",
      "\n"
     ]
    }
   ],
   "source": [
    "#Generating Random Policy\n",
    "for i in range(5):\n",
    "    print('Episode : ', i+1)\n",
    "    state = env.reset()\n",
    "    step = 0\n",
    "    while True:\n",
    "        step +=1\n",
    "        # takes random action from environment's action space\n",
    "        action = env.action_space.sample()\n",
    "        print('Step = {}\\t State = {}\\t Action Taken = {}'.format(step, state, action))\n",
    "        state, reward, done, info = env.step(action)\n",
    "        if done:\n",
    "            print('Game Ended...')\n",
    "            if reward > 0: print('Agent Won!\\n')\n",
    "            else: print('Agent Lost!\\n')\n",
    "            break"
   ]
  },
  {
   "cell_type": "code",
   "execution_count": 30,
   "metadata": {
    "id": "qQNjQ_iBAcQl"
   },
   "outputs": [],
   "source": [
    "#Random Policy\n",
    "def random_policy(nA):\n",
    "    A = np.ones(nA, dtype=float) / nA\n",
    "    def policy_fn(observation):\n",
    "        return A\n",
    "    return policy_fn"
   ]
  },
  {
   "cell_type": "code",
   "execution_count": 31,
   "metadata": {
    "id": "Iip9El3SAptc"
   },
   "outputs": [],
   "source": [
    "#Greedy Policy\n",
    "def greedy_policy(Q):\n",
    "    def policy_fn(state):\n",
    "        A = np.zeros_like(Q[state], dtype=float)\n",
    "        best_action = np.argmax(Q[state])\n",
    "        A[best_action] = 1.0\n",
    "        return A\n",
    "    return policy_fn"
   ]
  },
  {
   "cell_type": "code",
   "execution_count": 32,
   "metadata": {
    "id": "0q9mWOuLAtrc"
   },
   "outputs": [],
   "source": [
    "#Defining Monte Carlo Off Policy\n",
    "def mc_off_policy(env, num_episodes, behavior_policy, max_time=100, discount_factor=1.0):\n",
    "    Q = defaultdict(lambda:np.zeros(env.action_space.n))\n",
    "    C = defaultdict(lambda:np.zeros(env.action_space.n))\n",
    "\n",
    "    target_policy = greedy_policy(Q)\n",
    "\n",
    "    for i_episode in range(1, num_episodes+1):\n",
    "        if i_episode % 1000 == 0:\n",
    "            print(\"\\rEpisode {}/{}.\".format(i_episode, num_episodes), end=\"\")\n",
    "            sys.stdout.flush()\n",
    "\n",
    "        episode = []\n",
    "        state = env.reset()\n",
    "        for t in range(max_time):\n",
    "            probs = behavior_policy(state)\n",
    "            action = np.random.choice(np.arange(len(probs)), p=probs)\n",
    "            next_state, reward, done, _ = env.step(action)\n",
    "            episode.append((state, action, reward))\n",
    "            if done:\n",
    "                break\n",
    "            state = next_state\n",
    "        \n",
    "        G = 0.0\n",
    "        W = 1.0\n",
    "        for t in range(len(episode))[::-1]:\n",
    "            state, action, reward = episode[t]\n",
    "            G = discount_factor * G + reward\n",
    "            C[state][action] += W\n",
    "            Q[state][action] += (W / C[state][action]) * (G - Q[state][action])\n",
    "            if action !=  np.argmax(target_policy(state)):\n",
    "                break\n",
    "            W = W * 1./behavior_policy(state)[action]\n",
    "    return Q, target_policy"
   ]
  },
  {
   "cell_type": "code",
   "execution_count": 33,
   "metadata": {
    "colab": {
     "base_uri": "https://localhost:8080/"
    },
    "id": "pKOhr59wAt6t",
    "outputId": "07ee3bb1-193c-4427-ab02-558f4d2d0da6"
   },
   "outputs": [
    {
     "name": "stdout",
     "output_type": "stream",
     "text": [
      "Episode 1000000/1000000."
     ]
    }
   ],
   "source": [
    "random_policy = random_policy(env.action_space.n)\n",
    "Q, policy = mc_off_policy(env, num_episodes=1000000, behavior_policy=random_policy)"
   ]
  },
  {
   "cell_type": "code",
   "execution_count": 34,
   "metadata": {
    "id": "n0UjHExTAt94"
   },
   "outputs": [],
   "source": [
    "import matplotlib.pyplot as plt\n",
    "from mpl_toolkits.axes_grid1 import make_axes_locatable\n",
    "\n",
    "\n",
    "def plot_policy(policy):\n",
    "\n",
    "    def get_Z(x, y, usable_ace):\n",
    "        if (x,y,usable_ace) in policy:\n",
    "            return policy[x,y,usable_ace]\n",
    "        else:\n",
    "            return 1\n",
    "\n",
    "    def get_figure(usable_ace, ax):\n",
    "        x_range = np.arange(11, 22)\n",
    "        y_range = np.arange(10, 0, -1)\n",
    "        X, Y = np.meshgrid(x_range, y_range)\n",
    "        Z = np.array([[get_Z(x,y,usable_ace) for x in x_range] for y in y_range])\n",
    "        surf = ax.imshow(Z, cmap=plt.get_cmap('Pastel2', 2), vmin=0, vmax=1, extent=[10.5, 21.5, 0.5, 10.5])\n",
    "        plt.xticks(x_range)\n",
    "        plt.yticks(y_range)\n",
    "        plt.gca().invert_yaxis()\n",
    "        ax.set_xlabel('Player\\'s Current Sum')\n",
    "        ax.set_ylabel('Dealer\\'s Showing Card')\n",
    "        ax.grid(color='w', linestyle='-', linewidth=1)\n",
    "        divider = make_axes_locatable(ax)\n",
    "        cax = divider.append_axes(\"right\", size=\"5%\", pad=0.1)\n",
    "        cbar = plt.colorbar(surf, ticks=[0,1], cax=cax)\n",
    "        cbar.ax.set_yticklabels(['0 (STICK)','1 (HIT)'])\n",
    "            \n",
    "    fig = plt.figure(figsize=(15, 15))\n",
    "    ax = fig.add_subplot(121)\n",
    "    ax.set_title('Usable Ace')\n",
    "    get_figure(True, ax)\n",
    "    ax = fig.add_subplot(122)\n",
    "    ax.set_title('No Usable Ace')\n",
    "    get_figure(False, ax)\n",
    "    plt.show()"
   ]
  },
  {
   "cell_type": "code",
   "execution_count": 35,
   "metadata": {
    "colab": {
     "base_uri": "https://localhost:8080/",
     "height": 401
    },
    "id": "1bY0U-5iDPVG",
    "outputId": "0ca14a27-08e0-40d4-cef9-2364367fc016"
   },
   "outputs": [
    {
     "data": {
      "image/png": "[encoded data removed]",
      "text/plain": [
       "<Figure size 1080x1080 with 4 Axes>"
      ]
     },
     "metadata": {
      "needs_background": "light",
      "tags": []
     },
     "output_type": "display_data"
    }
   ],
   "source": [
    "policy = dict((k,np.argmax(v)) for k, v in Q.items())\n",
    "plot_policy(policy)"
   ]
  }
 ],
 "metadata": {
  "colab": {
   "name": "MC_Offpolicy.ipynb",
   "provenance": []
  },
  "kernelspec": {
   "display_name": "Python 3",
   "language": "python",
   "name": "python3"
  },
  "language_info": {
   "codemirror_mode": {
    "name": "ipython",
    "version": 3
   },
   "file_extension": ".py",
   "mimetype": "text/x-python",
   "name": "python",
   "nbconvert_exporter": "python",
   "pygments_lexer": "ipython3",
   "version": "3.7.6"
  }
 },
 "nbformat": 4,
 "nbformat_minor": 1
}
