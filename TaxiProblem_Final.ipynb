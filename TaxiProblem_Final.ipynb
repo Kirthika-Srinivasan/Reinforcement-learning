{
  "nbformat": 4,
  "nbformat_minor": 0,
  "metadata": {
    "colab": {
      "name": "TaxiProblem.ipynb",
      "provenance": [],
      "collapsed_sections": []
    },
    "kernelspec": {
      "name": "python3",
      "display_name": "Python 3"
    },
    "language_info": {
      "name": "python"
    }
  },
  "cells": [
    {
      "cell_type": "code",
      "metadata": {
        "colab": {
          "base_uri": "https://localhost:8080/",
          "height": 0
        },
        "id": "Kvw2_lVrzHlv",
        "outputId": "7d65479f-69b9-4117-8c2a-4eab9127d851"
      },
      "source": [
        "# install required system dependencies\n",
        "!apt-get install -y xvfb x11-utils \n",
        "!apt-get install x11-utils > /dev/null 2>&1\n",
        "!pip install PyVirtualDisplay==2.0.* \\\n",
        "  PyOpenGL==3.1.* \\\n",
        "  PyOpenGL-accelerate==3.1.* \\\n",
        "  gym[box2d]==0.17.* \n",
        "!pip install pyglet"
      ],
      "execution_count": 1,
      "outputs": [
        {
          "output_type": "stream",
          "text": [
            "Reading package lists... Done\n",
            "Building dependency tree       \n",
            "Reading state information... Done\n",
            "The following additional packages will be installed:\n",
            "  libxxf86dga1\n",
            "Suggested packages:\n",
            "  mesa-utils\n",
            "The following NEW packages will be installed:\n",
            "  libxxf86dga1 x11-utils xvfb\n",
            "0 upgraded, 3 newly installed, 0 to remove and 30 not upgraded.\n",
            "Need to get 993 kB of archives.\n",
            "After this operation, 2,981 kB of additional disk space will be used.\n",
            "Get:1 http://archive.ubuntu.com/ubuntu bionic/main amd64 libxxf86dga1 amd64 2:1.1.4-1 [13.7 kB]\n",
            "Get:2 http://archive.ubuntu.com/ubuntu bionic/main amd64 x11-utils amd64 7.7+3build1 [196 kB]\n",
            "Get:3 http://archive.ubuntu.com/ubuntu bionic-updates/universe amd64 xvfb amd64 2:1.19.6-1ubuntu4.8 [784 kB]\n",
            "Fetched 993 kB in 3s (326 kB/s)\n",
            "Selecting previously unselected package libxxf86dga1:amd64.\n",
            "(Reading database ... 160980 files and directories currently installed.)\n",
            "Preparing to unpack .../libxxf86dga1_2%3a1.1.4-1_amd64.deb ...\n",
            "Unpacking libxxf86dga1:amd64 (2:1.1.4-1) ...\n",
            "Selecting previously unselected package x11-utils.\n",
            "Preparing to unpack .../x11-utils_7.7+3build1_amd64.deb ...\n",
            "Unpacking x11-utils (7.7+3build1) ...\n",
            "Selecting previously unselected package xvfb.\n",
            "Preparing to unpack .../xvfb_2%3a1.19.6-1ubuntu4.8_amd64.deb ...\n",
            "Unpacking xvfb (2:1.19.6-1ubuntu4.8) ...\n",
            "Setting up xvfb (2:1.19.6-1ubuntu4.8) ...\n",
            "Setting up libxxf86dga1:amd64 (2:1.1.4-1) ...\n",
            "Setting up x11-utils (7.7+3build1) ...\n",
            "Processing triggers for man-db (2.8.3-2ubuntu0.1) ...\n",
            "Processing triggers for libc-bin (2.27-3ubuntu1.2) ...\n",
            "/sbin/ldconfig.real: /usr/local/lib/python3.7/dist-packages/ideep4py/lib/libmkldnn.so.0 is not a symbolic link\n",
            "\n",
            "Collecting PyVirtualDisplay==2.0.*\n",
            "  Downloading https://files.pythonhosted.org/packages/ad/05/6568620fed440941b704664b9cfe5f836ad699ac7694745e7787fbdc8063/PyVirtualDisplay-2.0-py2.py3-none-any.whl\n",
            "Requirement already satisfied: PyOpenGL==3.1.* in /usr/local/lib/python3.7/dist-packages (3.1.5)\n",
            "Collecting PyOpenGL-accelerate==3.1.*\n",
            "\u001b[?25l  Downloading https://files.pythonhosted.org/packages/a2/3c/f42a62b7784c04b20f8b88d6c8ad04f4f20b0767b721102418aad94d8389/PyOpenGL-accelerate-3.1.5.tar.gz (538kB)\n",
            "\u001b[K     |████████████████████████████████| 542kB 5.4MB/s \n",
            "\u001b[?25hRequirement already satisfied: gym[box2d]==0.17.* in /usr/local/lib/python3.7/dist-packages (0.17.3)\n",
            "Collecting EasyProcess\n",
            "  Downloading https://files.pythonhosted.org/packages/48/3c/75573613641c90c6d094059ac28adb748560d99bd27ee6f80cce398f404e/EasyProcess-0.3-py2.py3-none-any.whl\n",
            "Requirement already satisfied: pyglet<=1.5.0,>=1.4.0 in /usr/local/lib/python3.7/dist-packages (from gym[box2d]==0.17.*) (1.5.0)\n",
            "Requirement already satisfied: cloudpickle<1.7.0,>=1.2.0 in /usr/local/lib/python3.7/dist-packages (from gym[box2d]==0.17.*) (1.3.0)\n",
            "Requirement already satisfied: numpy>=1.10.4 in /usr/local/lib/python3.7/dist-packages (from gym[box2d]==0.17.*) (1.19.5)\n",
            "Requirement already satisfied: scipy in /usr/local/lib/python3.7/dist-packages (from gym[box2d]==0.17.*) (1.4.1)\n",
            "Collecting box2d-py~=2.3.5; extra == \"box2d\"\n",
            "\u001b[?25l  Downloading https://files.pythonhosted.org/packages/87/34/da5393985c3ff9a76351df6127c275dcb5749ae0abbe8d5210f06d97405d/box2d_py-2.3.8-cp37-cp37m-manylinux1_x86_64.whl (448kB)\n",
            "\u001b[K     |████████████████████████████████| 450kB 6.8MB/s \n",
            "\u001b[?25hRequirement already satisfied: future in /usr/local/lib/python3.7/dist-packages (from pyglet<=1.5.0,>=1.4.0->gym[box2d]==0.17.*) (0.16.0)\n",
            "Building wheels for collected packages: PyOpenGL-accelerate\n",
            "  Building wheel for PyOpenGL-accelerate (setup.py) ... \u001b[?25l\u001b[?25hdone\n",
            "  Created wheel for PyOpenGL-accelerate: filename=PyOpenGL_accelerate-3.1.5-cp37-cp37m-linux_x86_64.whl size=1599186 sha256=155ef81b27872c6dde17fe1946f0c7f4edde230f41b208d3147faafe27ec32cd\n",
            "  Stored in directory: /root/.cache/pip/wheels/bd/21/77/99670ceca25fddb3c2b60a7ae44644b8253d1006e8ec417bcc\n",
            "Successfully built PyOpenGL-accelerate\n",
            "Installing collected packages: EasyProcess, PyVirtualDisplay, PyOpenGL-accelerate, box2d-py\n",
            "Successfully installed EasyProcess-0.3 PyOpenGL-accelerate-3.1.5 PyVirtualDisplay-2.0 box2d-py-2.3.8\n",
            "Requirement already satisfied: pyglet in /usr/local/lib/python3.7/dist-packages (1.5.0)\n",
            "Requirement already satisfied: future in /usr/local/lib/python3.7/dist-packages (from pyglet) (0.16.0)\n"
          ],
          "name": "stdout"
        }
      ]
    },
    {
      "cell_type": "code",
      "metadata": {
        "id": "ZURdhzPWzn6w"
      },
      "source": [
        "import gym\n",
        "import numpy as np\n",
        "import base64\n",
        "import io\n",
        "import IPython\n",
        "import random"
      ],
      "execution_count": 2,
      "outputs": []
    },
    {
      "cell_type": "code",
      "metadata": {
        "colab": {
          "base_uri": "https://localhost:8080/",
          "height": 0
        },
        "id": "ySOCSigZ0Ngc",
        "outputId": "d92162b6-ef5a-4ca5-924a-7685172440b4"
      },
      "source": [
        "random.seed(1234)\n",
        "\n",
        "streets = gym.make(\"Taxi-v3\").env \n",
        "streets.render()"
      ],
      "execution_count": 4,
      "outputs": [
        {
          "output_type": "stream",
          "text": [
            "+---------+\n",
            "|R: | : :\u001b[35mG\u001b[0m|\n",
            "| : | : : |\n",
            "| : : : : |\n",
            "| | : |\u001b[43m \u001b[0m: |\n",
            "|Y| : |\u001b[34;1mB\u001b[0m: |\n",
            "+---------+\n",
            "\n"
          ],
          "name": "stdout"
        }
      ]
    },
    {
      "cell_type": "code",
      "metadata": {
        "colab": {
          "base_uri": "https://localhost:8080/",
          "height": 0
        },
        "id": "SwB6p8Rx0Nlc",
        "outputId": "1902a9b5-ca66-4455-fb43-5e6b14214d73"
      },
      "source": [
        "initial_state = streets.encode(2, 3, 2, 0)\n",
        "\n",
        "streets.s = initial_state\n",
        "\n",
        "streets.render()"
      ],
      "execution_count": 6,
      "outputs": [
        {
          "output_type": "stream",
          "text": [
            "+---------+\n",
            "|\u001b[35mR\u001b[0m: | : :G|\n",
            "| : | : : |\n",
            "| : : :\u001b[43m \u001b[0m: |\n",
            "| | : | : |\n",
            "|\u001b[34;1mY\u001b[0m| : |B: |\n",
            "+---------+\n",
            "\n"
          ],
          "name": "stdout"
        }
      ]
    },
    {
      "cell_type": "code",
      "metadata": {
        "id": "brFaccwb0NpK"
      },
      "source": [
        "import numpy as np\n",
        "\n",
        "q_table = np.zeros([streets.observation_space.n, streets.action_space.n])\n",
        "learning_rate = 0.1\n",
        "discount_factor = 0.6\n",
        "exploration = 0.1\n",
        "epochs = 10000\n",
        "\n",
        "for taxi_run in range(epochs):\n",
        "    state = streets.reset()\n",
        "    done = False\n",
        "    \n",
        "    while not done:\n",
        "        random_value = random.uniform(0, 1)\n",
        "        if (random_value < exploration):\n",
        "            action = streets.action_space.sample() # Explore a random action\n",
        "        else:\n",
        "            action = np.argmax(q_table[state]) # Use the action with the highest q-value\n",
        "            \n",
        "        next_state, reward, done, info = streets.step(action)\n",
        "        \n",
        "        prev_q = q_table[state, action]\n",
        "        next_max_q = np.max(q_table[next_state])\n",
        "        new_q = (1 - learning_rate) * prev_q + learning_rate * (reward + discount_factor * next_max_q)\n",
        "        q_table[state, action] = new_q\n",
        "        \n",
        "        state = next_state\n",
        "        "
      ],
      "execution_count": 9,
      "outputs": []
    },
    {
      "cell_type": "code",
      "metadata": {
        "colab": {
          "base_uri": "https://localhost:8080/",
          "height": 0
        },
        "id": "hvRmyB0103mx",
        "outputId": "b8930f34-fca8-4b36-ccdd-ee53acd66663"
      },
      "source": [
        "q_table[initial_state]  "
      ],
      "execution_count": 10,
      "outputs": [
        {
          "output_type": "execute_result",
          "data": {
            "text/plain": [
              "array([-2.40876479, -2.40361836, -2.41483083, -2.3639511 , -8.73130862,\n",
              "       -6.82658801])"
            ]
          },
          "metadata": {
            "tags": []
          },
          "execution_count": 10
        }
      ]
    },
    {
      "cell_type": "code",
      "metadata": {
        "colab": {
          "base_uri": "https://localhost:8080/",
          "height": 0
        },
        "id": "vvwBX5Q_04Gj",
        "outputId": "e0301b24-b187-4d64-b4f8-632b8116b501"
      },
      "source": [
        "q_table[streets.encode(1,0,2,0)]  "
      ],
      "execution_count": 11,
      "outputs": [
        {
          "output_type": "execute_result",
          "data": {
            "text/plain": [
              "array([-2.12208657, -2.23114451, -2.20482332, -2.18783982, -3.72076522,\n",
              "       -5.71979816])"
            ]
          },
          "metadata": {
            "tags": []
          },
          "execution_count": 11
        }
      ]
    },
    {
      "cell_type": "code",
      "metadata": {
        "colab": {
          "base_uri": "https://localhost:8080/",
          "height": 0
        },
        "id": "GIphgKKV04Jy",
        "outputId": "f736b31f-5bdf-4330-c724-dfc265886f4a"
      },
      "source": [
        "from IPython.display import clear_output\n",
        "from time import sleep\n",
        "lengths=[]\n",
        "for tripnum in range(1, 11):\n",
        "    state = streets.reset()\n",
        "   \n",
        "    done = False\n",
        "    trip_length = 0\n",
        "    \n",
        "    while not done and trip_length < 25:\n",
        "        action = np.argmax(q_table[state])\n",
        "        next_state, reward, done, info = streets.step(action)\n",
        "        clear_output(wait=True)\n",
        "        print(\"Trip number \" + str(tripnum) + \" Step \" + str(trip_length))\n",
        "        print(streets.render(mode='ansi'))\n",
        "        sleep(.2)\n",
        "        state = next_state\n",
        "        trip_length += 1\n",
        "    lengths.append(trip_length)\n",
        "    \n",
        "    sleep(.2)\n",
        "avg_len=sum(lengths)/10\n",
        "print(avg_len)\n"
      ],
      "execution_count": 14,
      "outputs": [
        {
          "output_type": "stream",
          "text": [
            "Trip number 10 Step 17\n",
            "+---------+\n",
            "|\u001b[35m\u001b[34;1m\u001b[43mR\u001b[0m\u001b[0m\u001b[0m: | : :G|\n",
            "| : | : : |\n",
            "| : : : : |\n",
            "| | : | : |\n",
            "|Y| : |B: |\n",
            "+---------+\n",
            "  (Dropoff)\n",
            "\n",
            "14.2\n"
          ],
          "name": "stdout"
        }
      ]
    }
  ]
}